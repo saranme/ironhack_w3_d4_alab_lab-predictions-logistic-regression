{
 "cells": [
  {
   "cell_type": "markdown",
   "metadata": {},
   "source": [
    "![logo_ironhack_blue 7](https://user-images.githubusercontent.com/23629340/40541063-a07a0a8a-601a-11e8-91b5-2f13e4e6b441.png)\n",
    "\n",
    "# Lab | Making predictions with logistic regression\n",
    "\n",
    "In this lab, you will be using the [Sakila](https://dev.mysql.com/doc/sakila/en/) database of movie rentals.\n",
    "\n",
    "In order to optimize our inventory, we would like to know which films will be rented next month and we are asked to create a model to predict it.\n",
    "\n",
    "### Instructions\n",
    "\n",
    "1. Create a query or queries to extract the information you think may be relevant for building the prediction model. It should include some film features and some rental features.\n",
    "2. Read the data into a Pandas dataframe.\n",
    "3. Analyze extracted features and transform them. You may need to encode some categorical variables, or scale numerical variables.\n",
    "4. Create a query to get the list of films and a boolean indicating if it was rented last month. This would be our target variable.\n",
    "5. Create a logistic regression model to predict this variable from the cleaned data.\n",
    "6. Evaluate the results.\n"
   ]
  },
  {
   "cell_type": "code",
   "execution_count": 1,
   "metadata": {},
   "outputs": [
    {
     "name": "stdout",
     "output_type": "stream",
     "text": [
      "········\n"
     ]
    }
   ],
   "source": [
    "import pymysql\n",
    "from sqlalchemy import create_engine\n",
    "import pandas as pd\n",
    "import getpass  # To get the password without showing the input\n",
    "password = getpass.getpass()"
   ]
  },
  {
   "cell_type": "markdown",
   "metadata": {},
   "source": [
    "## Import data into a dataframe"
   ]
  },
  {
   "cell_type": "code",
   "execution_count": 2,
   "metadata": {},
   "outputs": [],
   "source": [
    "connection_string = 'mysql+pymysql://root:' + password + '@localhost/sakila'\n",
    "engine = create_engine(connection_string)\n",
    "# data = pd.read_sql_query('SELECT * FROM loan', engine)\n",
    "# data.head()"
   ]
  },
  {
   "cell_type": "code",
   "execution_count": 3,
   "metadata": {},
   "outputs": [],
   "source": [
    "query = '''\n",
    "\n",
    "WITH n_inventory AS (\n",
    "SELECT f.film_id, COUNT(i.inventory_id) n_inventory\n",
    "FROM film f\n",
    "LEFT JOIN inventory i\n",
    "ON f.film_id = i.film_id\n",
    "GROUP BY film_id),\n",
    "\n",
    "n_rentals AS (\n",
    "SELECT f.film_id, COUNT(r.rental_id) n_rental,\n",
    "CASE WHEN r.rental_date BETWEEN '2005-03-01' AND '2006-02-14' THEN 1\n",
    "    ELSE 0 END AS time_movies_rented\n",
    "FROM film f\n",
    "LEFT JOIN inventory i\n",
    "ON f.film_id = i.film_id\n",
    "JOIN rental r\n",
    "ON i.inventory_id = r.inventory_id\n",
    "GROUP BY film_id,3),\n",
    "\n",
    "x AS (\n",
    "SELECT DISTINCT i.film_id, i.n_inventory, r.n_rental, c.name category, f.rating, f.length, f.title movie, f.release_year, f.rental_rate, r.time_movies_rented\n",
    "FROM n_inventory i\n",
    "LEFT JOIN n_rentals r\n",
    "ON i.film_id = r.film_id\n",
    "JOIN film_category fc\n",
    "ON i.film_id = fc.film_id\n",
    "JOIN category c\n",
    "ON c.category_id = fc.category_id\n",
    "JOIN film f\n",
    "ON i.film_id = f.film_id\n",
    "JOIN inventory inv\n",
    "ON i.film_id = inv.film_id\n",
    "JOIN rental r\n",
    "ON r.inventory_id = inv.inventory_id),\n",
    "\n",
    "y AS (SELECT RANK() OVER (PARTITION BY film_id ORDER BY time_movies_rented) AS x, film_id, n_inventory, n_rental, category, rating, length, movie, release_year, rental_rate, time_movies_rented\n",
    "FROM x)\n",
    "\n",
    "SELECT film_id, n_inventory, n_rental, category, rating, length, movie, release_year, rental_rate, time_movies_rented\n",
    "FROM y\n",
    "WHERE x = 1\n",
    "\n",
    "'''\n",
    "\n",
    "data = pd.read_sql_query(query, engine)"
   ]
  },
  {
   "cell_type": "code",
   "execution_count": 4,
   "metadata": {},
   "outputs": [
    {
     "data": {
      "text/html": [
       "<div>\n",
       "<style scoped>\n",
       "    .dataframe tbody tr th:only-of-type {\n",
       "        vertical-align: middle;\n",
       "    }\n",
       "\n",
       "    .dataframe tbody tr th {\n",
       "        vertical-align: top;\n",
       "    }\n",
       "\n",
       "    .dataframe thead th {\n",
       "        text-align: right;\n",
       "    }\n",
       "</style>\n",
       "<table border=\"1\" class=\"dataframe\">\n",
       "  <thead>\n",
       "    <tr style=\"text-align: right;\">\n",
       "      <th></th>\n",
       "      <th>n_inventory</th>\n",
       "      <th>n_rental</th>\n",
       "      <th>category</th>\n",
       "      <th>rating</th>\n",
       "      <th>length</th>\n",
       "      <th>movie</th>\n",
       "      <th>release_year</th>\n",
       "      <th>rental_rate</th>\n",
       "      <th>time_movies_rented</th>\n",
       "    </tr>\n",
       "    <tr>\n",
       "      <th>film_id</th>\n",
       "      <th></th>\n",
       "      <th></th>\n",
       "      <th></th>\n",
       "      <th></th>\n",
       "      <th></th>\n",
       "      <th></th>\n",
       "      <th></th>\n",
       "      <th></th>\n",
       "      <th></th>\n",
       "    </tr>\n",
       "  </thead>\n",
       "  <tbody>\n",
       "    <tr>\n",
       "      <th>1</th>\n",
       "      <td>8</td>\n",
       "      <td>1</td>\n",
       "      <td>Documentary</td>\n",
       "      <td>PG</td>\n",
       "      <td>86</td>\n",
       "      <td>ACADEMY DINOSAUR</td>\n",
       "      <td>2006</td>\n",
       "      <td>0.99</td>\n",
       "      <td>0</td>\n",
       "    </tr>\n",
       "    <tr>\n",
       "      <th>2</th>\n",
       "      <td>3</td>\n",
       "      <td>1</td>\n",
       "      <td>Horror</td>\n",
       "      <td>G</td>\n",
       "      <td>48</td>\n",
       "      <td>ACE GOLDFINGER</td>\n",
       "      <td>2006</td>\n",
       "      <td>4.99</td>\n",
       "      <td>0</td>\n",
       "    </tr>\n",
       "    <tr>\n",
       "      <th>3</th>\n",
       "      <td>4</td>\n",
       "      <td>12</td>\n",
       "      <td>Documentary</td>\n",
       "      <td>NC-17</td>\n",
       "      <td>50</td>\n",
       "      <td>ADAPTATION HOLES</td>\n",
       "      <td>2006</td>\n",
       "      <td>2.99</td>\n",
       "      <td>1</td>\n",
       "    </tr>\n",
       "    <tr>\n",
       "      <th>4</th>\n",
       "      <td>7</td>\n",
       "      <td>1</td>\n",
       "      <td>Horror</td>\n",
       "      <td>G</td>\n",
       "      <td>117</td>\n",
       "      <td>AFFAIR PREJUDICE</td>\n",
       "      <td>2006</td>\n",
       "      <td>2.99</td>\n",
       "      <td>0</td>\n",
       "    </tr>\n",
       "    <tr>\n",
       "      <th>5</th>\n",
       "      <td>3</td>\n",
       "      <td>1</td>\n",
       "      <td>Family</td>\n",
       "      <td>G</td>\n",
       "      <td>130</td>\n",
       "      <td>AFRICAN EGG</td>\n",
       "      <td>2006</td>\n",
       "      <td>2.99</td>\n",
       "      <td>0</td>\n",
       "    </tr>\n",
       "  </tbody>\n",
       "</table>\n",
       "</div>"
      ],
      "text/plain": [
       "         n_inventory  n_rental     category rating  length             movie  \\\n",
       "film_id                                                                        \n",
       "1                  8         1  Documentary     PG      86  ACADEMY DINOSAUR   \n",
       "2                  3         1       Horror      G      48    ACE GOLDFINGER   \n",
       "3                  4        12  Documentary  NC-17      50  ADAPTATION HOLES   \n",
       "4                  7         1       Horror      G     117  AFFAIR PREJUDICE   \n",
       "5                  3         1       Family      G     130       AFRICAN EGG   \n",
       "\n",
       "         release_year  rental_rate  time_movies_rented  \n",
       "film_id                                                 \n",
       "1                2006         0.99                   0  \n",
       "2                2006         4.99                   0  \n",
       "3                2006         2.99                   1  \n",
       "4                2006         2.99                   0  \n",
       "5                2006         2.99                   0  "
      ]
     },
     "execution_count": 4,
     "metadata": {},
     "output_type": "execute_result"
    }
   ],
   "source": [
    "data = data.set_index('film_id')\n",
    "data.head()"
   ]
  },
  {
   "cell_type": "code",
   "execution_count": 5,
   "metadata": {},
   "outputs": [
    {
     "data": {
      "text/plain": [
       "n_inventory             int64\n",
       "n_rental                int64\n",
       "category               object\n",
       "rating                 object\n",
       "length                  int64\n",
       "movie                  object\n",
       "release_year            int64\n",
       "rental_rate           float64\n",
       "time_movies_rented      int64\n",
       "dtype: object"
      ]
     },
     "execution_count": 5,
     "metadata": {},
     "output_type": "execute_result"
    }
   ],
   "source": [
    "data.dtypes"
   ]
  },
  {
   "cell_type": "code",
   "execution_count": 6,
   "metadata": {},
   "outputs": [],
   "source": [
    "data.time_movies_rented = data.time_movies_rented.astype(bool)"
   ]
  },
  {
   "cell_type": "code",
   "execution_count": 7,
   "metadata": {},
   "outputs": [
    {
     "data": {
      "text/plain": [
       "n_inventory             int64\n",
       "n_rental                int64\n",
       "category               object\n",
       "rating                 object\n",
       "length                  int64\n",
       "movie                  object\n",
       "release_year            int64\n",
       "rental_rate           float64\n",
       "time_movies_rented       bool\n",
       "dtype: object"
      ]
     },
     "execution_count": 7,
     "metadata": {},
     "output_type": "execute_result"
    }
   ],
   "source": [
    "data.dtypes"
   ]
  },
  {
   "cell_type": "markdown",
   "metadata": {},
   "source": [
    "## Getting the possible values for the dependent variable"
   ]
  },
  {
   "cell_type": "markdown",
   "metadata": {},
   "source": [
    "## Getting information about the dataset"
   ]
  },
  {
   "cell_type": "code",
   "execution_count": 8,
   "metadata": {},
   "outputs": [
    {
     "data": {
      "text/plain": [
       "n_inventory           0\n",
       "n_rental              0\n",
       "category              0\n",
       "rating                0\n",
       "length                0\n",
       "movie                 0\n",
       "release_year          0\n",
       "rental_rate           0\n",
       "time_movies_rented    0\n",
       "dtype: int64"
      ]
     },
     "execution_count": 8,
     "metadata": {},
     "output_type": "execute_result"
    }
   ],
   "source": [
    "data.isna().sum()"
   ]
  },
  {
   "cell_type": "markdown",
   "metadata": {},
   "source": [
    "## Filtering"
   ]
  },
  {
   "cell_type": "code",
   "execution_count": 9,
   "metadata": {},
   "outputs": [
    {
     "data": {
      "text/plain": [
       "Sports         73\n",
       "Foreign        67\n",
       "Family         67\n",
       "Animation      64\n",
       "Documentary    63\n",
       "Action         61\n",
       "Drama          61\n",
       "New            60\n",
       "Sci-Fi         59\n",
       "Games          58\n",
       "Children       58\n",
       "Comedy         56\n",
       "Classics       54\n",
       "Horror         53\n",
       "Travel         53\n",
       "Music          51\n",
       "Name: category, dtype: int64"
      ]
     },
     "execution_count": 9,
     "metadata": {},
     "output_type": "execute_result"
    }
   ],
   "source": [
    "data.category.value_counts()"
   ]
  },
  {
   "cell_type": "code",
   "execution_count": 10,
   "metadata": {},
   "outputs": [
    {
     "data": {
      "text/plain": [
       "PG-13    213\n",
       "NC-17    202\n",
       "R        189\n",
       "PG       183\n",
       "G        171\n",
       "Name: rating, dtype: int64"
      ]
     },
     "execution_count": 10,
     "metadata": {},
     "output_type": "execute_result"
    }
   ],
   "source": [
    "data.rating.value_counts()"
   ]
  },
  {
   "cell_type": "code",
   "execution_count": 11,
   "metadata": {},
   "outputs": [
    {
     "data": {
      "text/plain": [
       "2006    958\n",
       "Name: release_year, dtype: int64"
      ]
     },
     "execution_count": 11,
     "metadata": {},
     "output_type": "execute_result"
    }
   ],
   "source": [
    "data.release_year.value_counts()"
   ]
  },
  {
   "cell_type": "code",
   "execution_count": 12,
   "metadata": {},
   "outputs": [
    {
     "data": {
      "text/plain": [
       "0.99    326\n",
       "4.99    320\n",
       "2.99    312\n",
       "Name: rental_rate, dtype: int64"
      ]
     },
     "execution_count": 12,
     "metadata": {},
     "output_type": "execute_result"
    }
   ],
   "source": [
    "data.rental_rate.value_counts()"
   ]
  },
  {
   "cell_type": "markdown",
   "metadata": {},
   "source": [
    "## Loading libraries"
   ]
  },
  {
   "cell_type": "code",
   "execution_count": 13,
   "metadata": {},
   "outputs": [],
   "source": [
    "import matplotlib.pyplot as plt\n",
    "import seaborn as sns\n",
    "%matplotlib inline"
   ]
  },
  {
   "cell_type": "markdown",
   "metadata": {},
   "source": [
    "## Getting the correlation matrix"
   ]
  },
  {
   "cell_type": "code",
   "execution_count": 14,
   "metadata": {},
   "outputs": [
    {
     "data": {
      "image/png": "[encoded data removed]",
      "text/plain": [
       "<Figure size 720x576 with 2 Axes>"
      ]
     },
     "metadata": {
      "needs_background": "light"
     },
     "output_type": "display_data"
    }
   ],
   "source": [
    "corr_matrix=data.corr(method='pearson')  # default\n",
    "fig, ax = plt.subplots(figsize=(10, 8))\n",
    "ax = sns.heatmap(corr_matrix, annot=True)\n",
    "plt.show()"
   ]
  },
  {
   "cell_type": "code",
   "execution_count": 15,
   "metadata": {},
   "outputs": [
    {
     "data": {
      "image/png": "[encoded data removed]",
      "text/plain": [
       "<Figure size 360x360 with 1 Axes>"
      ]
     },
     "metadata": {
      "needs_background": "light"
     },
     "output_type": "display_data"
    },
    {
     "data": {
      "image/png": "[encoded data removed]",
      "text/plain": [
       "<Figure size 360x360 with 1 Axes>"
      ]
     },
     "metadata": {
      "needs_background": "light"
     },
     "output_type": "display_data"
    },
    {
     "data": {
      "image/png": "[encoded data removed]",
      "text/plain": [
       "<Figure size 360x360 with 1 Axes>"
      ]
     },
     "metadata": {
      "needs_background": "light"
     },
     "output_type": "display_data"
    },
    {
     "data": {
      "image/png": "[encoded data removed]",
      "text/plain": [
       "<Figure size 360x360 with 1 Axes>"
      ]
     },
     "metadata": {
      "needs_background": "light"
     },
     "output_type": "display_data"
    },
    {
     "data": {
      "image/png": "[encoded data removed]",
      "text/plain": [
       "<Figure size 360x360 with 1 Axes>"
      ]
     },
     "metadata": {
      "needs_background": "light"
     },
     "output_type": "display_data"
    },
    {
     "data": {
      "image/png": "[encoded data removed]",
      "text/plain": [
       "<Figure size 360x360 with 1 Axes>"
      ]
     },
     "metadata": {
      "needs_background": "light"
     },
     "output_type": "display_data"
    },
    {
     "data": {
      "image/png": "[encoded data removed]",
      "text/plain": [
       "<Figure size 360x360 with 1 Axes>"
      ]
     },
     "metadata": {
      "needs_background": "light"
     },
     "output_type": "display_data"
    },
    {
     "data": {
      "image/png": "[encoded data removed]",
      "text/plain": [
       "<Figure size 360x360 with 1 Axes>"
      ]
     },
     "metadata": {
      "needs_background": "light"
     },
     "output_type": "display_data"
    },
    {
     "name": "stderr",
     "output_type": "stream",
     "text": [
      "<string>:6: RuntimeWarning: Converting input from bool to <class 'numpy.uint8'> for compatibility.\n",
      "<string>:6: RuntimeWarning: Converting input from bool to <class 'numpy.uint8'> for compatibility.\n"
     ]
    },
    {
     "data": {
      "image/png": "[encoded data removed]",
      "text/plain": [
       "<Figure size 360x360 with 1 Axes>"
      ]
     },
     "metadata": {
      "needs_background": "light"
     },
     "output_type": "display_data"
    }
   ],
   "source": [
    "for i in data.columns:\n",
    "    sns.displot(data[i])\n",
    "    plt.show()"
   ]
  },
  {
   "cell_type": "markdown",
   "metadata": {},
   "source": [
    "## Data preprocessing"
   ]
  },
  {
   "cell_type": "code",
   "execution_count": 16,
   "metadata": {},
   "outputs": [],
   "source": [
    "from sklearn.preprocessing import Normalizer\n",
    "# from sklearn.preprocessing import StandardScaler\n",
    "import numpy as np\n",
    "X = data.select_dtypes(include = np.number)\n",
    "\n",
    "# Normalizing data\n",
    "transformer = Normalizer().fit(X)\n",
    "x_normalized = transformer.transform(X)\n",
    "x = pd.DataFrame(x_normalized)"
   ]
  },
  {
   "cell_type": "code",
   "execution_count": 17,
   "metadata": {},
   "outputs": [
    {
     "data": {
      "text/plain": [
       "n_inventory             int64\n",
       "n_rental                int64\n",
       "category               object\n",
       "rating                 object\n",
       "length                  int64\n",
       "movie                  object\n",
       "release_year            int64\n",
       "rental_rate           float64\n",
       "time_movies_rented       bool\n",
       "dtype: object"
      ]
     },
     "execution_count": 17,
     "metadata": {},
     "output_type": "execute_result"
    }
   ],
   "source": [
    "data.dtypes"
   ]
  },
  {
   "cell_type": "markdown",
   "metadata": {},
   "source": [
    "## Dummifying categorical features"
   ]
  },
  {
   "cell_type": "code",
   "execution_count": 18,
   "metadata": {},
   "outputs": [],
   "source": [
    "cat = data.select_dtypes(include = np.object)\n",
    "cat = cat.drop(['movie'], axis=1)\n",
    "categorical = pd.get_dummies(cat, columns=['category','rating'])"
   ]
  },
  {
   "cell_type": "code",
   "execution_count": 19,
   "metadata": {},
   "outputs": [
    {
     "data": {
      "text/html": [
       "<div>\n",
       "<style scoped>\n",
       "    .dataframe tbody tr th:only-of-type {\n",
       "        vertical-align: middle;\n",
       "    }\n",
       "\n",
       "    .dataframe tbody tr th {\n",
       "        vertical-align: top;\n",
       "    }\n",
       "\n",
       "    .dataframe thead th {\n",
       "        text-align: right;\n",
       "    }\n",
       "</style>\n",
       "<table border=\"1\" class=\"dataframe\">\n",
       "  <thead>\n",
       "    <tr style=\"text-align: right;\">\n",
       "      <th></th>\n",
       "      <th>category_Action</th>\n",
       "      <th>category_Animation</th>\n",
       "      <th>category_Children</th>\n",
       "      <th>category_Classics</th>\n",
       "      <th>category_Comedy</th>\n",
       "      <th>category_Documentary</th>\n",
       "      <th>category_Drama</th>\n",
       "      <th>category_Family</th>\n",
       "      <th>category_Foreign</th>\n",
       "      <th>category_Games</th>\n",
       "      <th>...</th>\n",
       "      <th>category_Music</th>\n",
       "      <th>category_New</th>\n",
       "      <th>category_Sci-Fi</th>\n",
       "      <th>category_Sports</th>\n",
       "      <th>category_Travel</th>\n",
       "      <th>rating_G</th>\n",
       "      <th>rating_NC-17</th>\n",
       "      <th>rating_PG</th>\n",
       "      <th>rating_PG-13</th>\n",
       "      <th>rating_R</th>\n",
       "    </tr>\n",
       "    <tr>\n",
       "      <th>film_id</th>\n",
       "      <th></th>\n",
       "      <th></th>\n",
       "      <th></th>\n",
       "      <th></th>\n",
       "      <th></th>\n",
       "      <th></th>\n",
       "      <th></th>\n",
       "      <th></th>\n",
       "      <th></th>\n",
       "      <th></th>\n",
       "      <th></th>\n",
       "      <th></th>\n",
       "      <th></th>\n",
       "      <th></th>\n",
       "      <th></th>\n",
       "      <th></th>\n",
       "      <th></th>\n",
       "      <th></th>\n",
       "      <th></th>\n",
       "      <th></th>\n",
       "      <th></th>\n",
       "    </tr>\n",
       "  </thead>\n",
       "  <tbody>\n",
       "    <tr>\n",
       "      <th>1</th>\n",
       "      <td>0</td>\n",
       "      <td>0</td>\n",
       "      <td>0</td>\n",
       "      <td>0</td>\n",
       "      <td>0</td>\n",
       "      <td>1</td>\n",
       "      <td>0</td>\n",
       "      <td>0</td>\n",
       "      <td>0</td>\n",
       "      <td>0</td>\n",
       "      <td>...</td>\n",
       "      <td>0</td>\n",
       "      <td>0</td>\n",
       "      <td>0</td>\n",
       "      <td>0</td>\n",
       "      <td>0</td>\n",
       "      <td>0</td>\n",
       "      <td>0</td>\n",
       "      <td>1</td>\n",
       "      <td>0</td>\n",
       "      <td>0</td>\n",
       "    </tr>\n",
       "    <tr>\n",
       "      <th>2</th>\n",
       "      <td>0</td>\n",
       "      <td>0</td>\n",
       "      <td>0</td>\n",
       "      <td>0</td>\n",
       "      <td>0</td>\n",
       "      <td>0</td>\n",
       "      <td>0</td>\n",
       "      <td>0</td>\n",
       "      <td>0</td>\n",
       "      <td>0</td>\n",
       "      <td>...</td>\n",
       "      <td>0</td>\n",
       "      <td>0</td>\n",
       "      <td>0</td>\n",
       "      <td>0</td>\n",
       "      <td>0</td>\n",
       "      <td>1</td>\n",
       "      <td>0</td>\n",
       "      <td>0</td>\n",
       "      <td>0</td>\n",
       "      <td>0</td>\n",
       "    </tr>\n",
       "    <tr>\n",
       "      <th>3</th>\n",
       "      <td>0</td>\n",
       "      <td>0</td>\n",
       "      <td>0</td>\n",
       "      <td>0</td>\n",
       "      <td>0</td>\n",
       "      <td>1</td>\n",
       "      <td>0</td>\n",
       "      <td>0</td>\n",
       "      <td>0</td>\n",
       "      <td>0</td>\n",
       "      <td>...</td>\n",
       "      <td>0</td>\n",
       "      <td>0</td>\n",
       "      <td>0</td>\n",
       "      <td>0</td>\n",
       "      <td>0</td>\n",
       "      <td>0</td>\n",
       "      <td>1</td>\n",
       "      <td>0</td>\n",
       "      <td>0</td>\n",
       "      <td>0</td>\n",
       "    </tr>\n",
       "    <tr>\n",
       "      <th>4</th>\n",
       "      <td>0</td>\n",
       "      <td>0</td>\n",
       "      <td>0</td>\n",
       "      <td>0</td>\n",
       "      <td>0</td>\n",
       "      <td>0</td>\n",
       "      <td>0</td>\n",
       "      <td>0</td>\n",
       "      <td>0</td>\n",
       "      <td>0</td>\n",
       "      <td>...</td>\n",
       "      <td>0</td>\n",
       "      <td>0</td>\n",
       "      <td>0</td>\n",
       "      <td>0</td>\n",
       "      <td>0</td>\n",
       "      <td>1</td>\n",
       "      <td>0</td>\n",
       "      <td>0</td>\n",
       "      <td>0</td>\n",
       "      <td>0</td>\n",
       "    </tr>\n",
       "    <tr>\n",
       "      <th>5</th>\n",
       "      <td>0</td>\n",
       "      <td>0</td>\n",
       "      <td>0</td>\n",
       "      <td>0</td>\n",
       "      <td>0</td>\n",
       "      <td>0</td>\n",
       "      <td>0</td>\n",
       "      <td>1</td>\n",
       "      <td>0</td>\n",
       "      <td>0</td>\n",
       "      <td>...</td>\n",
       "      <td>0</td>\n",
       "      <td>0</td>\n",
       "      <td>0</td>\n",
       "      <td>0</td>\n",
       "      <td>0</td>\n",
       "      <td>1</td>\n",
       "      <td>0</td>\n",
       "      <td>0</td>\n",
       "      <td>0</td>\n",
       "      <td>0</td>\n",
       "    </tr>\n",
       "    <tr>\n",
       "      <th>...</th>\n",
       "      <td>...</td>\n",
       "      <td>...</td>\n",
       "      <td>...</td>\n",
       "      <td>...</td>\n",
       "      <td>...</td>\n",
       "      <td>...</td>\n",
       "      <td>...</td>\n",
       "      <td>...</td>\n",
       "      <td>...</td>\n",
       "      <td>...</td>\n",
       "      <td>...</td>\n",
       "      <td>...</td>\n",
       "      <td>...</td>\n",
       "      <td>...</td>\n",
       "      <td>...</td>\n",
       "      <td>...</td>\n",
       "      <td>...</td>\n",
       "      <td>...</td>\n",
       "      <td>...</td>\n",
       "      <td>...</td>\n",
       "      <td>...</td>\n",
       "    </tr>\n",
       "    <tr>\n",
       "      <th>996</th>\n",
       "      <td>0</td>\n",
       "      <td>0</td>\n",
       "      <td>0</td>\n",
       "      <td>0</td>\n",
       "      <td>0</td>\n",
       "      <td>1</td>\n",
       "      <td>0</td>\n",
       "      <td>0</td>\n",
       "      <td>0</td>\n",
       "      <td>0</td>\n",
       "      <td>...</td>\n",
       "      <td>0</td>\n",
       "      <td>0</td>\n",
       "      <td>0</td>\n",
       "      <td>0</td>\n",
       "      <td>0</td>\n",
       "      <td>1</td>\n",
       "      <td>0</td>\n",
       "      <td>0</td>\n",
       "      <td>0</td>\n",
       "      <td>0</td>\n",
       "    </tr>\n",
       "    <tr>\n",
       "      <th>997</th>\n",
       "      <td>0</td>\n",
       "      <td>0</td>\n",
       "      <td>0</td>\n",
       "      <td>0</td>\n",
       "      <td>0</td>\n",
       "      <td>0</td>\n",
       "      <td>0</td>\n",
       "      <td>0</td>\n",
       "      <td>0</td>\n",
       "      <td>0</td>\n",
       "      <td>...</td>\n",
       "      <td>1</td>\n",
       "      <td>0</td>\n",
       "      <td>0</td>\n",
       "      <td>0</td>\n",
       "      <td>0</td>\n",
       "      <td>0</td>\n",
       "      <td>1</td>\n",
       "      <td>0</td>\n",
       "      <td>0</td>\n",
       "      <td>0</td>\n",
       "    </tr>\n",
       "    <tr>\n",
       "      <th>998</th>\n",
       "      <td>0</td>\n",
       "      <td>0</td>\n",
       "      <td>0</td>\n",
       "      <td>0</td>\n",
       "      <td>0</td>\n",
       "      <td>0</td>\n",
       "      <td>0</td>\n",
       "      <td>0</td>\n",
       "      <td>0</td>\n",
       "      <td>0</td>\n",
       "      <td>...</td>\n",
       "      <td>0</td>\n",
       "      <td>0</td>\n",
       "      <td>0</td>\n",
       "      <td>0</td>\n",
       "      <td>0</td>\n",
       "      <td>0</td>\n",
       "      <td>1</td>\n",
       "      <td>0</td>\n",
       "      <td>0</td>\n",
       "      <td>0</td>\n",
       "    </tr>\n",
       "    <tr>\n",
       "      <th>999</th>\n",
       "      <td>0</td>\n",
       "      <td>0</td>\n",
       "      <td>1</td>\n",
       "      <td>0</td>\n",
       "      <td>0</td>\n",
       "      <td>0</td>\n",
       "      <td>0</td>\n",
       "      <td>0</td>\n",
       "      <td>0</td>\n",
       "      <td>0</td>\n",
       "      <td>...</td>\n",
       "      <td>0</td>\n",
       "      <td>0</td>\n",
       "      <td>0</td>\n",
       "      <td>0</td>\n",
       "      <td>0</td>\n",
       "      <td>0</td>\n",
       "      <td>0</td>\n",
       "      <td>0</td>\n",
       "      <td>0</td>\n",
       "      <td>1</td>\n",
       "    </tr>\n",
       "    <tr>\n",
       "      <th>1000</th>\n",
       "      <td>0</td>\n",
       "      <td>0</td>\n",
       "      <td>0</td>\n",
       "      <td>0</td>\n",
       "      <td>1</td>\n",
       "      <td>0</td>\n",
       "      <td>0</td>\n",
       "      <td>0</td>\n",
       "      <td>0</td>\n",
       "      <td>0</td>\n",
       "      <td>...</td>\n",
       "      <td>0</td>\n",
       "      <td>0</td>\n",
       "      <td>0</td>\n",
       "      <td>0</td>\n",
       "      <td>0</td>\n",
       "      <td>0</td>\n",
       "      <td>1</td>\n",
       "      <td>0</td>\n",
       "      <td>0</td>\n",
       "      <td>0</td>\n",
       "    </tr>\n",
       "  </tbody>\n",
       "</table>\n",
       "<p>958 rows × 21 columns</p>\n",
       "</div>"
      ],
      "text/plain": [
       "         category_Action  category_Animation  category_Children  \\\n",
       "film_id                                                           \n",
       "1                      0                   0                  0   \n",
       "2                      0                   0                  0   \n",
       "3                      0                   0                  0   \n",
       "4                      0                   0                  0   \n",
       "5                      0                   0                  0   \n",
       "...                  ...                 ...                ...   \n",
       "996                    0                   0                  0   \n",
       "997                    0                   0                  0   \n",
       "998                    0                   0                  0   \n",
       "999                    0                   0                  1   \n",
       "1000                   0                   0                  0   \n",
       "\n",
       "         category_Classics  category_Comedy  category_Documentary  \\\n",
       "film_id                                                             \n",
       "1                        0                0                     1   \n",
       "2                        0                0                     0   \n",
       "3                        0                0                     1   \n",
       "4                        0                0                     0   \n",
       "5                        0                0                     0   \n",
       "...                    ...              ...                   ...   \n",
       "996                      0                0                     1   \n",
       "997                      0                0                     0   \n",
       "998                      0                0                     0   \n",
       "999                      0                0                     0   \n",
       "1000                     0                1                     0   \n",
       "\n",
       "         category_Drama  category_Family  category_Foreign  category_Games  \\\n",
       "film_id                                                                      \n",
       "1                     0                0                 0               0   \n",
       "2                     0                0                 0               0   \n",
       "3                     0                0                 0               0   \n",
       "4                     0                0                 0               0   \n",
       "5                     0                1                 0               0   \n",
       "...                 ...              ...               ...             ...   \n",
       "996                   0                0                 0               0   \n",
       "997                   0                0                 0               0   \n",
       "998                   0                0                 0               0   \n",
       "999                   0                0                 0               0   \n",
       "1000                  0                0                 0               0   \n",
       "\n",
       "         ...  category_Music  category_New  category_Sci-Fi  category_Sports  \\\n",
       "film_id  ...                                                                   \n",
       "1        ...               0             0                0                0   \n",
       "2        ...               0             0                0                0   \n",
       "3        ...               0             0                0                0   \n",
       "4        ...               0             0                0                0   \n",
       "5        ...               0             0                0                0   \n",
       "...      ...             ...           ...              ...              ...   \n",
       "996      ...               0             0                0                0   \n",
       "997      ...               1             0                0                0   \n",
       "998      ...               0             0                0                0   \n",
       "999      ...               0             0                0                0   \n",
       "1000     ...               0             0                0                0   \n",
       "\n",
       "         category_Travel  rating_G  rating_NC-17  rating_PG  rating_PG-13  \\\n",
       "film_id                                                                     \n",
       "1                      0         0             0          1             0   \n",
       "2                      0         1             0          0             0   \n",
       "3                      0         0             1          0             0   \n",
       "4                      0         1             0          0             0   \n",
       "5                      0         1             0          0             0   \n",
       "...                  ...       ...           ...        ...           ...   \n",
       "996                    0         1             0          0             0   \n",
       "997                    0         0             1          0             0   \n",
       "998                    0         0             1          0             0   \n",
       "999                    0         0             0          0             0   \n",
       "1000                   0         0             1          0             0   \n",
       "\n",
       "         rating_R  \n",
       "film_id            \n",
       "1               0  \n",
       "2               0  \n",
       "3               0  \n",
       "4               0  \n",
       "5               0  \n",
       "...           ...  \n",
       "996             0  \n",
       "997             0  \n",
       "998             0  \n",
       "999             1  \n",
       "1000            0  \n",
       "\n",
       "[958 rows x 21 columns]"
      ]
     },
     "execution_count": 19,
     "metadata": {},
     "output_type": "execute_result"
    }
   ],
   "source": [
    "categorical"
   ]
  },
  {
   "cell_type": "markdown",
   "metadata": {},
   "source": [
    "## Train-test split"
   ]
  },
  {
   "cell_type": "code",
   "execution_count": 20,
   "metadata": {},
   "outputs": [],
   "source": [
    "y = data['time_movies_rented']\n",
    "X = np.concatenate((x, categorical), axis=1)"
   ]
  },
  {
   "cell_type": "code",
   "execution_count": 21,
   "metadata": {},
   "outputs": [],
   "source": [
    "from sklearn.model_selection import train_test_split\n",
    "X_train, X_test, y_train, y_test = train_test_split(X, y, test_size=0.4, random_state=100)"
   ]
  },
  {
   "cell_type": "markdown",
   "metadata": {},
   "source": [
    "## Training the model"
   ]
  },
  {
   "cell_type": "code",
   "execution_count": 22,
   "metadata": {},
   "outputs": [],
   "source": [
    "from sklearn.linear_model import LogisticRegression\n",
    "classification = LogisticRegression(random_state=0, solver='lbfgs',\n",
    "                  multi_class='multinomial').fit(X_train, y_train)"
   ]
  },
  {
   "cell_type": "markdown",
   "metadata": {},
   "source": [
    "## Validating the model"
   ]
  },
  {
   "cell_type": "code",
   "execution_count": 23,
   "metadata": {},
   "outputs": [
    {
     "name": "stdout",
     "output_type": "stream",
     "text": [
      "The accuracy of the model in the TEST set is:  0.82\n"
     ]
    }
   ],
   "source": [
    "print(\"The accuracy of the model in the TEST set is: \", round(classification.score(X_test, y_test),2))"
   ]
  },
  {
   "cell_type": "code",
   "execution_count": 24,
   "metadata": {},
   "outputs": [
    {
     "data": {
      "text/plain": [
       "0.8229166666666666"
      ]
     },
     "execution_count": 24,
     "metadata": {},
     "output_type": "execute_result"
    }
   ],
   "source": [
    "predictions = classification.predict(X_test)\n",
    "classification.score(X_test, y_test)"
   ]
  },
  {
   "cell_type": "code",
   "execution_count": 25,
   "metadata": {},
   "outputs": [
    {
     "data": {
      "text/plain": [
       "True     316\n",
       "False     68\n",
       "Name: time_movies_rented, dtype: int64"
      ]
     },
     "execution_count": 25,
     "metadata": {},
     "output_type": "execute_result"
    }
   ],
   "source": [
    "y_test.value_counts()"
   ]
  },
  {
   "cell_type": "markdown",
   "metadata": {},
   "source": [
    "Huge class inmbalance!!!"
   ]
  },
  {
   "cell_type": "markdown",
   "metadata": {},
   "source": [
    "## Getting the confussion matrix"
   ]
  },
  {
   "cell_type": "code",
   "execution_count": 26,
   "metadata": {},
   "outputs": [
    {
     "data": {
      "text/plain": [
       "array([[  0,  68],\n",
       "       [  0, 316]])"
      ]
     },
     "execution_count": 26,
     "metadata": {},
     "output_type": "execute_result"
    }
   ],
   "source": [
    "from sklearn.metrics import confusion_matrix, plot_confusion_matrix\n",
    "confusion_matrix(y_test, predictions) #predictions or classification.predict(X_test) if gives you an error"
   ]
  },
  {
   "cell_type": "code",
   "execution_count": 27,
   "metadata": {},
   "outputs": [
    {
     "data": {
      "text/plain": [
       "<sklearn.metrics._plot.confusion_matrix.ConfusionMatrixDisplay at 0x7fc6c08eb790>"
      ]
     },
     "execution_count": 27,
     "metadata": {},
     "output_type": "execute_result"
    },
    {
     "data": {
      "image/png": "[encoded data removed]",
      "text/plain": [
       "<Figure size 432x288 with 2 Axes>"
      ]
     },
     "metadata": {
      "needs_background": "light"
     },
     "output_type": "display_data"
    }
   ],
   "source": [
    "plot_confusion_matrix(classification, X_test, y_test)"
   ]
  },
  {
   "cell_type": "markdown",
   "metadata": {},
   "source": [
    "Huge Imbalance"
   ]
  },
  {
   "cell_type": "markdown",
   "metadata": {},
   "source": [
    "## Getting the probabilities of belonging to a particular class"
   ]
  },
  {
   "cell_type": "code",
   "execution_count": 28,
   "metadata": {},
   "outputs": [
    {
     "data": {
      "text/plain": [
       "array([[0.22174484, 0.77825516],\n",
       "       [0.18608874, 0.81391126],\n",
       "       [0.11583288, 0.88416712],\n",
       "       [0.11214234, 0.88785766],\n",
       "       [0.1876759 , 0.8123241 ],\n",
       "       [0.17960513, 0.82039487],\n",
       "       [0.08210222, 0.91789778],\n",
       "       [0.094061  , 0.905939  ],\n",
       "       [0.19568441, 0.80431559],\n",
       "       [0.16592114, 0.83407886],\n",
       "       [0.19218905, 0.80781095],\n",
       "       [0.18001774, 0.81998226],\n",
       "       [0.19803655, 0.80196345],\n",
       "       [0.23083764, 0.76916236],\n",
       "       [0.13033641, 0.86966359],\n",
       "       [0.24880985, 0.75119015],\n",
       "       [0.08361107, 0.91638893],\n",
       "       [0.1054272 , 0.8945728 ],\n",
       "       [0.10560957, 0.89439043],\n",
       "       [0.11091771, 0.88908229],\n",
       "       [0.21356133, 0.78643867],\n",
       "       [0.15163887, 0.84836113],\n",
       "       [0.08949992, 0.91050008],\n",
       "       [0.08410242, 0.91589758],\n",
       "       [0.17700337, 0.82299663],\n",
       "       [0.12917105, 0.87082895],\n",
       "       [0.08186533, 0.91813467],\n",
       "       [0.24563369, 0.75436631],\n",
       "       [0.14112371, 0.85887629],\n",
       "       [0.26870598, 0.73129402],\n",
       "       [0.25823992, 0.74176008],\n",
       "       [0.22591954, 0.77408046],\n",
       "       [0.08336225, 0.91663775],\n",
       "       [0.14096106, 0.85903894],\n",
       "       [0.17316526, 0.82683474],\n",
       "       [0.20138302, 0.79861698],\n",
       "       [0.11115978, 0.88884022],\n",
       "       [0.09053498, 0.90946502],\n",
       "       [0.22936841, 0.77063159],\n",
       "       [0.25450871, 0.74549129],\n",
       "       [0.11652771, 0.88347229],\n",
       "       [0.19433051, 0.80566949],\n",
       "       [0.13845266, 0.86154734],\n",
       "       [0.27275361, 0.72724639],\n",
       "       [0.30565477, 0.69434523],\n",
       "       [0.21203676, 0.78796324],\n",
       "       [0.07606514, 0.92393486],\n",
       "       [0.114991  , 0.885009  ],\n",
       "       [0.22362506, 0.77637494],\n",
       "       [0.20750059, 0.79249941],\n",
       "       [0.14101977, 0.85898023],\n",
       "       [0.17827596, 0.82172404],\n",
       "       [0.23762232, 0.76237768],\n",
       "       [0.16309718, 0.83690282],\n",
       "       [0.29682361, 0.70317639],\n",
       "       [0.10979911, 0.89020089],\n",
       "       [0.10459683, 0.89540317],\n",
       "       [0.16130424, 0.83869576],\n",
       "       [0.1887444 , 0.8112556 ],\n",
       "       [0.21048374, 0.78951626],\n",
       "       [0.20828996, 0.79171004],\n",
       "       [0.23453666, 0.76546334],\n",
       "       [0.08369416, 0.91630584],\n",
       "       [0.17583695, 0.82416305],\n",
       "       [0.12942787, 0.87057213],\n",
       "       [0.19019692, 0.80980308],\n",
       "       [0.15136096, 0.84863904],\n",
       "       [0.1491575 , 0.8508425 ],\n",
       "       [0.21402595, 0.78597405],\n",
       "       [0.07568276, 0.92431724],\n",
       "       [0.07679367, 0.92320633],\n",
       "       [0.12827713, 0.87172287],\n",
       "       [0.09414182, 0.90585818],\n",
       "       [0.18847506, 0.81152494],\n",
       "       [0.13461008, 0.86538992],\n",
       "       [0.10198904, 0.89801096],\n",
       "       [0.30564148, 0.69435852],\n",
       "       [0.29156316, 0.70843684],\n",
       "       [0.25176796, 0.74823204],\n",
       "       [0.1571914 , 0.8428086 ],\n",
       "       [0.19798346, 0.80201654],\n",
       "       [0.20845608, 0.79154392],\n",
       "       [0.12878881, 0.87121119],\n",
       "       [0.23652312, 0.76347688],\n",
       "       [0.0760643 , 0.9239357 ],\n",
       "       [0.08356971, 0.91643029],\n",
       "       [0.199202  , 0.800798  ],\n",
       "       [0.2288116 , 0.7711884 ],\n",
       "       [0.2602395 , 0.7397605 ],\n",
       "       [0.19672816, 0.80327184],\n",
       "       [0.22640247, 0.77359753],\n",
       "       [0.08345603, 0.91654397],\n",
       "       [0.15816346, 0.84183654],\n",
       "       [0.0764754 , 0.9235246 ],\n",
       "       [0.18095883, 0.81904117],\n",
       "       [0.25664091, 0.74335909],\n",
       "       [0.14504259, 0.85495741],\n",
       "       [0.26167383, 0.73832617],\n",
       "       [0.1629535 , 0.8370465 ],\n",
       "       [0.09550889, 0.90449111],\n",
       "       [0.09540677, 0.90459323],\n",
       "       [0.22791369, 0.77208631],\n",
       "       [0.16212109, 0.83787891],\n",
       "       [0.30223291, 0.69776709],\n",
       "       [0.186927  , 0.813073  ],\n",
       "       [0.11532533, 0.88467467],\n",
       "       [0.22770834, 0.77229166],\n",
       "       [0.13595836, 0.86404164],\n",
       "       [0.07526026, 0.92473974],\n",
       "       [0.23940146, 0.76059854],\n",
       "       [0.15204522, 0.84795478],\n",
       "       [0.15196875, 0.84803125],\n",
       "       [0.14083713, 0.85916287],\n",
       "       [0.25640445, 0.74359555],\n",
       "       [0.20993266, 0.79006734],\n",
       "       [0.12980894, 0.87019106],\n",
       "       [0.08994922, 0.91005078],\n",
       "       [0.10287793, 0.89712207],\n",
       "       [0.13481319, 0.86518681],\n",
       "       [0.21023909, 0.78976091],\n",
       "       [0.11127091, 0.88872909],\n",
       "       [0.116059  , 0.883941  ],\n",
       "       [0.20843589, 0.79156411],\n",
       "       [0.0815478 , 0.9184522 ],\n",
       "       [0.17375693, 0.82624307],\n",
       "       [0.23135175, 0.76864825],\n",
       "       [0.26470975, 0.73529025],\n",
       "       [0.11594804, 0.88405196],\n",
       "       [0.09394637, 0.90605363],\n",
       "       [0.13973   , 0.86027   ],\n",
       "       [0.17657592, 0.82342408],\n",
       "       [0.14961377, 0.85038623],\n",
       "       [0.06831324, 0.93168676],\n",
       "       [0.14035044, 0.85964956],\n",
       "       [0.11584115, 0.88415885],\n",
       "       [0.26018622, 0.73981378],\n",
       "       [0.25364132, 0.74635868],\n",
       "       [0.15073781, 0.84926219],\n",
       "       [0.22696685, 0.77303315],\n",
       "       [0.06867165, 0.93132835],\n",
       "       [0.14143856, 0.85856144],\n",
       "       [0.26930403, 0.73069597],\n",
       "       [0.09390164, 0.90609836],\n",
       "       [0.23757946, 0.76242054],\n",
       "       [0.18188861, 0.81811139],\n",
       "       [0.10317487, 0.89682513],\n",
       "       [0.29073043, 0.70926957],\n",
       "       [0.18154606, 0.81845394],\n",
       "       [0.26428785, 0.73571215],\n",
       "       [0.29825873, 0.70174127],\n",
       "       [0.16776017, 0.83223983],\n",
       "       [0.14940831, 0.85059169],\n",
       "       [0.2078021 , 0.7921979 ],\n",
       "       [0.21404634, 0.78595366],\n",
       "       [0.18395764, 0.81604236],\n",
       "       [0.26759769, 0.73240231],\n",
       "       [0.17404199, 0.82595801],\n",
       "       [0.23432096, 0.76567904],\n",
       "       [0.23358134, 0.76641866],\n",
       "       [0.12515976, 0.87484024],\n",
       "       [0.20971377, 0.79028623],\n",
       "       [0.17071851, 0.82928149],\n",
       "       [0.08247572, 0.91752428],\n",
       "       [0.27460908, 0.72539092],\n",
       "       [0.07671592, 0.92328408],\n",
       "       [0.06986241, 0.93013759],\n",
       "       [0.22759935, 0.77240065],\n",
       "       [0.10425858, 0.89574142],\n",
       "       [0.17898521, 0.82101479],\n",
       "       [0.07635648, 0.92364352],\n",
       "       [0.25111802, 0.74888198],\n",
       "       [0.1685623 , 0.8314377 ],\n",
       "       [0.21305452, 0.78694548],\n",
       "       [0.11145393, 0.88854607],\n",
       "       [0.15013479, 0.84986521],\n",
       "       [0.259724  , 0.740276  ],\n",
       "       [0.16182725, 0.83817275],\n",
       "       [0.22922986, 0.77077014],\n",
       "       [0.19777433, 0.80222567],\n",
       "       [0.17993275, 0.82006725],\n",
       "       [0.2304972 , 0.7695028 ],\n",
       "       [0.13988397, 0.86011603],\n",
       "       [0.18653679, 0.81346321],\n",
       "       [0.30495254, 0.69504746],\n",
       "       [0.13792662, 0.86207338],\n",
       "       [0.22363285, 0.77636715],\n",
       "       [0.111044  , 0.888956  ],\n",
       "       [0.27297558, 0.72702442],\n",
       "       [0.07627053, 0.92372947],\n",
       "       [0.12857169, 0.87142831],\n",
       "       [0.22572332, 0.77427668],\n",
       "       [0.26250818, 0.73749182],\n",
       "       [0.21274241, 0.78725759],\n",
       "       [0.23399733, 0.76600267],\n",
       "       [0.14136945, 0.85863055],\n",
       "       [0.06160743, 0.93839257],\n",
       "       [0.08166639, 0.91833361],\n",
       "       [0.20284778, 0.79715222],\n",
       "       [0.15078124, 0.84921876],\n",
       "       [0.09568759, 0.90431241],\n",
       "       [0.18219293, 0.81780707],\n",
       "       [0.18299446, 0.81700554],\n",
       "       [0.14521212, 0.85478788],\n",
       "       [0.23486697, 0.76513303],\n",
       "       [0.21444253, 0.78555747],\n",
       "       [0.29690644, 0.70309356],\n",
       "       [0.2630228 , 0.7369772 ],\n",
       "       [0.16891852, 0.83108148],\n",
       "       [0.20912313, 0.79087687],\n",
       "       [0.14139557, 0.85860443],\n",
       "       [0.24204248, 0.75795752],\n",
       "       [0.25674451, 0.74325549],\n",
       "       [0.17810253, 0.82189747],\n",
       "       [0.17860563, 0.82139437],\n",
       "       [0.07594499, 0.92405501],\n",
       "       [0.18237971, 0.81762029],\n",
       "       [0.12481071, 0.87518929],\n",
       "       [0.26869988, 0.73130012],\n",
       "       [0.22880915, 0.77119085],\n",
       "       [0.1018717 , 0.8981283 ],\n",
       "       [0.15122523, 0.84877477],\n",
       "       [0.29829501, 0.70170499],\n",
       "       [0.0905921 , 0.9094079 ],\n",
       "       [0.23038436, 0.76961564],\n",
       "       [0.06986208, 0.93013792],\n",
       "       [0.06794377, 0.93205623],\n",
       "       [0.21199141, 0.78800859],\n",
       "       [0.15138208, 0.84861792],\n",
       "       [0.07602749, 0.92397251],\n",
       "       [0.06187303, 0.93812697],\n",
       "       [0.07545558, 0.92454442],\n",
       "       [0.12428535, 0.87571465],\n",
       "       [0.12846583, 0.87153417],\n",
       "       [0.23443645, 0.76556355],\n",
       "       [0.1514012 , 0.8485988 ],\n",
       "       [0.11655126, 0.88344874],\n",
       "       [0.21424109, 0.78575891],\n",
       "       [0.11067125, 0.88932875],\n",
       "       [0.25686265, 0.74313735],\n",
       "       [0.17783744, 0.82216256],\n",
       "       [0.27338454, 0.72661546],\n",
       "       [0.17604714, 0.82395286],\n",
       "       [0.16194671, 0.83805329],\n",
       "       [0.28831037, 0.71168963],\n",
       "       [0.11589952, 0.88410048],\n",
       "       [0.19637201, 0.80362799],\n",
       "       [0.10561282, 0.89438718],\n",
       "       [0.22497476, 0.77502524],\n",
       "       [0.24822034, 0.75177966],\n",
       "       [0.21113484, 0.78886516],\n",
       "       [0.21457992, 0.78542008],\n",
       "       [0.23697837, 0.76302163],\n",
       "       [0.16757474, 0.83242526],\n",
       "       [0.19213872, 0.80786128],\n",
       "       [0.24654572, 0.75345428],\n",
       "       [0.1530781 , 0.8469219 ],\n",
       "       [0.25625674, 0.74374326],\n",
       "       [0.21299402, 0.78700598],\n",
       "       [0.09564934, 0.90435066],\n",
       "       [0.19854185, 0.80145815],\n",
       "       [0.25798875, 0.74201125],\n",
       "       [0.20668189, 0.79331811],\n",
       "       [0.17913511, 0.82086489],\n",
       "       [0.20201153, 0.79798847],\n",
       "       [0.17743985, 0.82256015],\n",
       "       [0.09517851, 0.90482149],\n",
       "       [0.19717811, 0.80282189],\n",
       "       [0.13580763, 0.86419237],\n",
       "       [0.22664461, 0.77335539],\n",
       "       [0.12969794, 0.87030206],\n",
       "       [0.30481999, 0.69518001],\n",
       "       [0.22693401, 0.77306599],\n",
       "       [0.09303886, 0.90696114],\n",
       "       [0.19416875, 0.80583125],\n",
       "       [0.12458624, 0.87541376],\n",
       "       [0.24035935, 0.75964065],\n",
       "       [0.23457973, 0.76542027],\n",
       "       [0.16164867, 0.83835133],\n",
       "       [0.23569956, 0.76430044],\n",
       "       [0.17653867, 0.82346133],\n",
       "       [0.12555537, 0.87444463],\n",
       "       [0.11049249, 0.88950751],\n",
       "       [0.16296978, 0.83703022],\n",
       "       [0.1446418 , 0.8553582 ],\n",
       "       [0.12975556, 0.87024444],\n",
       "       [0.29708043, 0.70291957],\n",
       "       [0.09406792, 0.90593208],\n",
       "       [0.16979268, 0.83020732],\n",
       "       [0.11091272, 0.88908728],\n",
       "       [0.18680691, 0.81319309],\n",
       "       [0.12923987, 0.87076013],\n",
       "       [0.11585855, 0.88414145],\n",
       "       [0.08339336, 0.91660664],\n",
       "       [0.2214472 , 0.7785528 ],\n",
       "       [0.23637402, 0.76362598],\n",
       "       [0.06938883, 0.93061117],\n",
       "       [0.16184488, 0.83815512],\n",
       "       [0.11650379, 0.88349621],\n",
       "       [0.20922229, 0.79077771],\n",
       "       [0.16235748, 0.83764252],\n",
       "       [0.19313252, 0.80686748],\n",
       "       [0.24199951, 0.75800049],\n",
       "       [0.0936259 , 0.9063741 ],\n",
       "       [0.12950483, 0.87049517],\n",
       "       [0.23956032, 0.76043968],\n",
       "       [0.22452462, 0.77547538],\n",
       "       [0.28974383, 0.71025617],\n",
       "       [0.25883939, 0.74116061],\n",
       "       [0.12418969, 0.87581031],\n",
       "       [0.16821823, 0.83178177],\n",
       "       [0.18149282, 0.81850718],\n",
       "       [0.11655507, 0.88344493],\n",
       "       [0.30395061, 0.69604939],\n",
       "       [0.12537782, 0.87462218],\n",
       "       [0.27363709, 0.72636291],\n",
       "       [0.18252901, 0.81747099],\n",
       "       [0.11682131, 0.88317869],\n",
       "       [0.28881395, 0.71118605],\n",
       "       [0.22126315, 0.77873685],\n",
       "       [0.28820704, 0.71179296],\n",
       "       [0.19414258, 0.80585742],\n",
       "       [0.07609489, 0.92390511],\n",
       "       [0.14485338, 0.85514662],\n",
       "       [0.14915119, 0.85084881],\n",
       "       [0.27330296, 0.72669704],\n",
       "       [0.12505284, 0.87494716],\n",
       "       [0.06925187, 0.93074813],\n",
       "       [0.2289251 , 0.7710749 ],\n",
       "       [0.16214141, 0.83785859],\n",
       "       [0.16628493, 0.83371507],\n",
       "       [0.20165153, 0.79834847],\n",
       "       [0.2383762 , 0.7616238 ],\n",
       "       [0.13989472, 0.86010528],\n",
       "       [0.07620987, 0.92379013],\n",
       "       [0.10964624, 0.89035376],\n",
       "       [0.07674248, 0.92325752],\n",
       "       [0.17687893, 0.82312107],\n",
       "       [0.30334871, 0.69665129],\n",
       "       [0.25452436, 0.74547564],\n",
       "       [0.21252718, 0.78747282],\n",
       "       [0.25591306, 0.74408694],\n",
       "       [0.10318931, 0.89681069],\n",
       "       [0.15095542, 0.84904458],\n",
       "       [0.15198111, 0.84801889],\n",
       "       [0.28760043, 0.71239957],\n",
       "       [0.06925187, 0.93074813],\n",
       "       [0.17073478, 0.82926522],\n",
       "       [0.06985961, 0.93014039],\n",
       "       [0.14958549, 0.85041451],\n",
       "       [0.13848815, 0.86151185],\n",
       "       [0.18034091, 0.81965909],\n",
       "       [0.29091798, 0.70908202],\n",
       "       [0.08987421, 0.91012579],\n",
       "       [0.18583714, 0.81416286],\n",
       "       [0.14150421, 0.85849579],\n",
       "       [0.12767894, 0.87232106],\n",
       "       [0.13017868, 0.86982132],\n",
       "       [0.29944399, 0.70055601],\n",
       "       [0.23580866, 0.76419134],\n",
       "       [0.0756733 , 0.9243267 ],\n",
       "       [0.06914869, 0.93085131],\n",
       "       [0.15303565, 0.84696435],\n",
       "       [0.13008393, 0.86991607],\n",
       "       [0.26977954, 0.73022046],\n",
       "       [0.21175589, 0.78824411],\n",
       "       [0.25203781, 0.74796219],\n",
       "       [0.29883932, 0.70116068],\n",
       "       [0.06943884, 0.93056116],\n",
       "       [0.06149703, 0.93850297],\n",
       "       [0.18008956, 0.81991044],\n",
       "       [0.16308101, 0.83691899],\n",
       "       [0.24699335, 0.75300665],\n",
       "       [0.25687308, 0.74312692],\n",
       "       [0.19208025, 0.80791975],\n",
       "       [0.15726893, 0.84273107],\n",
       "       [0.2983844 , 0.7016156 ],\n",
       "       [0.11051028, 0.88948972],\n",
       "       [0.17966306, 0.82033694],\n",
       "       [0.25555426, 0.74444574],\n",
       "       [0.14907053, 0.85092947],\n",
       "       [0.26890377, 0.73109623],\n",
       "       [0.13910858, 0.86089142],\n",
       "       [0.1023288 , 0.8976712 ],\n",
       "       [0.18804865, 0.81195135]])"
      ]
     },
     "execution_count": 28,
     "metadata": {},
     "output_type": "execute_result"
    }
   ],
   "source": [
    "classification.predict_proba(X_test)"
   ]
  },
  {
   "cell_type": "code",
   "execution_count": 29,
   "metadata": {},
   "outputs": [
    {
     "data": {
      "text/plain": [
       "array([0.22174484, 0.18608874, 0.11583288, 0.11214234, 0.1876759 ,\n",
       "       0.17960513, 0.08210222, 0.094061  , 0.19568441, 0.16592114,\n",
       "       0.19218905, 0.18001774, 0.19803655, 0.23083764, 0.13033641,\n",
       "       0.24880985, 0.08361107, 0.1054272 , 0.10560957, 0.11091771,\n",
       "       0.21356133, 0.15163887, 0.08949992, 0.08410242, 0.17700337,\n",
       "       0.12917105, 0.08186533, 0.24563369, 0.14112371, 0.26870598,\n",
       "       0.25823992, 0.22591954, 0.08336225, 0.14096106, 0.17316526,\n",
       "       0.20138302, 0.11115978, 0.09053498, 0.22936841, 0.25450871,\n",
       "       0.11652771, 0.19433051, 0.13845266, 0.27275361, 0.30565477,\n",
       "       0.21203676, 0.07606514, 0.114991  , 0.22362506, 0.20750059,\n",
       "       0.14101977, 0.17827596, 0.23762232, 0.16309718, 0.29682361,\n",
       "       0.10979911, 0.10459683, 0.16130424, 0.1887444 , 0.21048374,\n",
       "       0.20828996, 0.23453666, 0.08369416, 0.17583695, 0.12942787,\n",
       "       0.19019692, 0.15136096, 0.1491575 , 0.21402595, 0.07568276,\n",
       "       0.07679367, 0.12827713, 0.09414182, 0.18847506, 0.13461008,\n",
       "       0.10198904, 0.30564148, 0.29156316, 0.25176796, 0.1571914 ,\n",
       "       0.19798346, 0.20845608, 0.12878881, 0.23652312, 0.0760643 ,\n",
       "       0.08356971, 0.199202  , 0.2288116 , 0.2602395 , 0.19672816,\n",
       "       0.22640247, 0.08345603, 0.15816346, 0.0764754 , 0.18095883,\n",
       "       0.25664091, 0.14504259, 0.26167383, 0.1629535 , 0.09550889,\n",
       "       0.09540677, 0.22791369, 0.16212109, 0.30223291, 0.186927  ,\n",
       "       0.11532533, 0.22770834, 0.13595836, 0.07526026, 0.23940146,\n",
       "       0.15204522, 0.15196875, 0.14083713, 0.25640445, 0.20993266,\n",
       "       0.12980894, 0.08994922, 0.10287793, 0.13481319, 0.21023909,\n",
       "       0.11127091, 0.116059  , 0.20843589, 0.0815478 , 0.17375693,\n",
       "       0.23135175, 0.26470975, 0.11594804, 0.09394637, 0.13973   ,\n",
       "       0.17657592, 0.14961377, 0.06831324, 0.14035044, 0.11584115,\n",
       "       0.26018622, 0.25364132, 0.15073781, 0.22696685, 0.06867165,\n",
       "       0.14143856, 0.26930403, 0.09390164, 0.23757946, 0.18188861,\n",
       "       0.10317487, 0.29073043, 0.18154606, 0.26428785, 0.29825873,\n",
       "       0.16776017, 0.14940831, 0.2078021 , 0.21404634, 0.18395764,\n",
       "       0.26759769, 0.17404199, 0.23432096, 0.23358134, 0.12515976,\n",
       "       0.20971377, 0.17071851, 0.08247572, 0.27460908, 0.07671592,\n",
       "       0.06986241, 0.22759935, 0.10425858, 0.17898521, 0.07635648,\n",
       "       0.25111802, 0.1685623 , 0.21305452, 0.11145393, 0.15013479,\n",
       "       0.259724  , 0.16182725, 0.22922986, 0.19777433, 0.17993275,\n",
       "       0.2304972 , 0.13988397, 0.18653679, 0.30495254, 0.13792662,\n",
       "       0.22363285, 0.111044  , 0.27297558, 0.07627053, 0.12857169,\n",
       "       0.22572332, 0.26250818, 0.21274241, 0.23399733, 0.14136945,\n",
       "       0.06160743, 0.08166639, 0.20284778, 0.15078124, 0.09568759,\n",
       "       0.18219293, 0.18299446, 0.14521212, 0.23486697, 0.21444253,\n",
       "       0.29690644, 0.2630228 , 0.16891852, 0.20912313, 0.14139557,\n",
       "       0.24204248, 0.25674451, 0.17810253, 0.17860563, 0.07594499,\n",
       "       0.18237971, 0.12481071, 0.26869988, 0.22880915, 0.1018717 ,\n",
       "       0.15122523, 0.29829501, 0.0905921 , 0.23038436, 0.06986208,\n",
       "       0.06794377, 0.21199141, 0.15138208, 0.07602749, 0.06187303,\n",
       "       0.07545558, 0.12428535, 0.12846583, 0.23443645, 0.1514012 ,\n",
       "       0.11655126, 0.21424109, 0.11067125, 0.25686265, 0.17783744,\n",
       "       0.27338454, 0.17604714, 0.16194671, 0.28831037, 0.11589952,\n",
       "       0.19637201, 0.10561282, 0.22497476, 0.24822034, 0.21113484,\n",
       "       0.21457992, 0.23697837, 0.16757474, 0.19213872, 0.24654572,\n",
       "       0.1530781 , 0.25625674, 0.21299402, 0.09564934, 0.19854185,\n",
       "       0.25798875, 0.20668189, 0.17913511, 0.20201153, 0.17743985,\n",
       "       0.09517851, 0.19717811, 0.13580763, 0.22664461, 0.12969794,\n",
       "       0.30481999, 0.22693401, 0.09303886, 0.19416875, 0.12458624,\n",
       "       0.24035935, 0.23457973, 0.16164867, 0.23569956, 0.17653867,\n",
       "       0.12555537, 0.11049249, 0.16296978, 0.1446418 , 0.12975556,\n",
       "       0.29708043, 0.09406792, 0.16979268, 0.11091272, 0.18680691,\n",
       "       0.12923987, 0.11585855, 0.08339336, 0.2214472 , 0.23637402,\n",
       "       0.06938883, 0.16184488, 0.11650379, 0.20922229, 0.16235748,\n",
       "       0.19313252, 0.24199951, 0.0936259 , 0.12950483, 0.23956032,\n",
       "       0.22452462, 0.28974383, 0.25883939, 0.12418969, 0.16821823,\n",
       "       0.18149282, 0.11655507, 0.30395061, 0.12537782, 0.27363709,\n",
       "       0.18252901, 0.11682131, 0.28881395, 0.22126315, 0.28820704,\n",
       "       0.19414258, 0.07609489, 0.14485338, 0.14915119, 0.27330296,\n",
       "       0.12505284, 0.06925187, 0.2289251 , 0.16214141, 0.16628493,\n",
       "       0.20165153, 0.2383762 , 0.13989472, 0.07620987, 0.10964624,\n",
       "       0.07674248, 0.17687893, 0.30334871, 0.25452436, 0.21252718,\n",
       "       0.25591306, 0.10318931, 0.15095542, 0.15198111, 0.28760043,\n",
       "       0.06925187, 0.17073478, 0.06985961, 0.14958549, 0.13848815,\n",
       "       0.18034091, 0.29091798, 0.08987421, 0.18583714, 0.14150421,\n",
       "       0.12767894, 0.13017868, 0.29944399, 0.23580866, 0.0756733 ,\n",
       "       0.06914869, 0.15303565, 0.13008393, 0.26977954, 0.21175589,\n",
       "       0.25203781, 0.29883932, 0.06943884, 0.06149703, 0.18008956,\n",
       "       0.16308101, 0.24699335, 0.25687308, 0.19208025, 0.15726893,\n",
       "       0.2983844 , 0.11051028, 0.17966306, 0.25555426, 0.14907053,\n",
       "       0.26890377, 0.13910858, 0.1023288 , 0.18804865])"
      ]
     },
     "execution_count": 29,
     "metadata": {},
     "output_type": "execute_result"
    }
   ],
   "source": [
    "classification.predict_proba(X_test)[::,0]"
   ]
  },
  {
   "cell_type": "code",
   "execution_count": 50,
   "metadata": {},
   "outputs": [
    {
     "data": {
      "text/html": [
       "<div>\n",
       "<style scoped>\n",
       "    .dataframe tbody tr th:only-of-type {\n",
       "        vertical-align: middle;\n",
       "    }\n",
       "\n",
       "    .dataframe tbody tr th {\n",
       "        vertical-align: top;\n",
       "    }\n",
       "\n",
       "    .dataframe thead th {\n",
       "        text-align: right;\n",
       "    }\n",
       "</style>\n",
       "<table border=\"1\" class=\"dataframe\">\n",
       "  <thead>\n",
       "    <tr style=\"text-align: right;\">\n",
       "      <th></th>\n",
       "      <th>False</th>\n",
       "      <th>True</th>\n",
       "      <th>Biggest</th>\n",
       "    </tr>\n",
       "  </thead>\n",
       "  <tbody>\n",
       "    <tr>\n",
       "      <th>0</th>\n",
       "      <td>0.221745</td>\n",
       "      <td>0.778255</td>\n",
       "      <td>0.778255</td>\n",
       "    </tr>\n",
       "    <tr>\n",
       "      <th>1</th>\n",
       "      <td>0.186089</td>\n",
       "      <td>0.813911</td>\n",
       "      <td>0.813911</td>\n",
       "    </tr>\n",
       "    <tr>\n",
       "      <th>2</th>\n",
       "      <td>0.115833</td>\n",
       "      <td>0.884167</td>\n",
       "      <td>0.884167</td>\n",
       "    </tr>\n",
       "    <tr>\n",
       "      <th>3</th>\n",
       "      <td>0.112142</td>\n",
       "      <td>0.887858</td>\n",
       "      <td>0.887858</td>\n",
       "    </tr>\n",
       "    <tr>\n",
       "      <th>4</th>\n",
       "      <td>0.187676</td>\n",
       "      <td>0.812324</td>\n",
       "      <td>0.812324</td>\n",
       "    </tr>\n",
       "  </tbody>\n",
       "</table>\n",
       "</div>"
      ],
      "text/plain": [
       "      False      True   Biggest\n",
       "0  0.221745  0.778255  0.778255\n",
       "1  0.186089  0.813911  0.813911\n",
       "2  0.115833  0.884167  0.884167\n",
       "3  0.112142  0.887858  0.887858\n",
       "4  0.187676  0.812324  0.812324"
      ]
     },
     "execution_count": 50,
     "metadata": {},
     "output_type": "execute_result"
    }
   ],
   "source": [
    "probs = pd.DataFrame(classification.predict_proba(X_test))\n",
    "probs.columns =['False','True']\n",
    "#df_probs['Biggest'] =list(np.max(probs, axis=1)\n",
    "probs['Biggest'] =list(np.max(probs, axis=1))\n",
    "probs.head()"
   ]
  },
  {
   "cell_type": "code",
   "execution_count": null,
   "metadata": {},
   "outputs": [],
   "source": []
  }
 ],
 "metadata": {
  "kernelspec": {
   "display_name": "Python 3",
   "language": "python",
   "name": "python3"
  },
  "language_info": {
   "codemirror_mode": {
    "name": "ipython",
    "version": 3
   },
   "file_extension": ".py",
   "mimetype": "text/x-python",
   "name": "python",
   "nbconvert_exporter": "python",
   "pygments_lexer": "ipython3",
   "version": "3.7.9"
  }
 },
 "nbformat": 4,
 "nbformat_minor": 4
}
